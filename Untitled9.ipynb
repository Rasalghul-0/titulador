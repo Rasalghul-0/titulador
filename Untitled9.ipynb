{
  "nbformat": 4,
  "nbformat_minor": 0,
  "metadata": {
    "colab": {
      "provenance": [],
      "authorship_tag": "ABX9TyMSao17rltSPAux9WGpPhTb",
      "include_colab_link": true
    },
    "kernelspec": {
      "name": "python3",
      "display_name": "Python 3"
    },
    "language_info": {
      "name": "python"
    }
  },
  "cells": [
    {
      "cell_type": "markdown",
      "metadata": {
        "id": "view-in-github",
        "colab_type": "text"
      },
      "source": [
        "<a href=\"https://colab.research.google.com/github/Rasalghul-0/titulador/blob/main/Untitled9.ipynb\" target=\"_parent\"><img src=\"https://colab.research.google.com/assets/colab-badge.svg\" alt=\"Open In Colab\"/></a>"
      ]
    },
    {
      "cell_type": "code",
      "execution_count": 6,
      "metadata": {
        "id": "OIZEZ91YkvU6"
      },
      "outputs": [],
      "source": [
        "## Nombre de los items de calificaciones\n",
        "p1 = \"\" ##Primer parcial\n",
        "p2 = \"\" ##Segundo parcial\n",
        "pa = \"\" ##Practica\n",
        "pf = \"\" ##Parcial final\n",
        "\n",
        "\n",
        "\n",
        "## Nota de los items\n",
        "nota_p1 = 0 ##Nota primer parcial\n",
        "nota_p2 = 0 ##Nota segundo parcial\n",
        "nota_pa = 0 ##Nota practica\n",
        "nota_pf = 0 ##Nota parcial final\n",
        "\n",
        "##Porcentaje de cada item de calificacion unidades en (%)\n",
        "porcentaje_p1 = int(20)\n",
        "porcentaje_p2 = int(20)\n",
        "porcentaje_pa = int(35)\n",
        "porcentaje_pf = int(25)\n",
        "\n",
        "##Ponderado de las nota\n",
        "pon_p1 = 0 ## ponderado nota parcial 1\n",
        "pon_p2 = 0 ## ponderado nota parcial 2\n",
        "pon_pa = 0 ## ponderado nota practica\n",
        "pon_pf = 0 ## ponderado nota final\n",
        "\n",
        "##Nota fianl\n",
        "nota_final = 0"
      ]
    },
    {
      "cell_type": "code",
      "source": [
        "## Solicitud de datos\n",
        "p1 = input(\"Ingrese el nombre de la actividad 1: \")\n",
        "nota_p1 = float(input(f\"Ingrese la nota de la actividad: {p1} \"))\n",
        "\n",
        "p2 = input(\"Ingrese el nombre de la actividad 2: \")\n",
        "nota_p2 = float(input(f\"Ingrese la nota de la actividad: {p2}\"))\n",
        "\n",
        "pa = input(\"Ingrese el nombre de la actividad 3: \")\n",
        "nota_pa = float(input(f\"Ingrese la nota de la actividad: {pa}\"))\n",
        "\n",
        "pf = input(\"Ingrese el nombre de la actividad 4: \")\n",
        "nota_pf = float(input(f\"Ingrese la nota de la actividad: {pf}\"))\n",
        "\n",
        "##procesamiento de datos\n",
        "pon_p1 = (nota_p1*porcentaje_p1)/100\n",
        "pon_p2 = (nota_p2*porcentaje_p2)/100\n",
        "pon_pa = (nota_pa*porcentaje_pa)/100\n",
        "pon_pf = (nota_pf*porcentaje_pf)/100\n",
        "\n",
        "nota_final = pon_p1 + pon_p2 + pon_pa + pon_pf\n",
        "\n",
        "if nota_final >= 3.0 :\n",
        "  print(f\"la nota final del curso de Algoritmos {nota_final}, Aprobado\")\n",
        "else:\n",
        "  print(f\"la nota final del curso de Algoritmos {nota_final}, Reprobado eres un estupido jaja\")\n"
      ],
      "metadata": {
        "colab": {
          "base_uri": "https://localhost:8080/"
        },
        "id": "5E-MS1PiwktF",
        "outputId": "98eb90c4-211e-4025-d97e-14bdf95c1b3f"
      },
      "execution_count": 16,
      "outputs": [
        {
          "output_type": "stream",
          "name": "stdout",
          "text": [
            "Ingrese el nombre de la actividad 1: ty\n",
            "Ingrese la nota de la actividad: ty 3.8\n",
            "Ingrese el nombre de la actividad 2: fr\n",
            "Ingrese la nota de la actividad: fr2.6\n",
            "Ingrese el nombre de la actividad 3: yt\n",
            "Ingrese la nota de la actividad: yt2.9\n",
            "Ingrese el nombre de la actividad 4: rt\n",
            "Ingrese la nota de la actividad: rt2.4\n",
            "la nota final del curso de Algoritmos 2.895, Reprobado eres un estupido jaja\n"
          ]
        }
      ]
    },
    {
      "cell_type": "code",
      "source": [
        "## ejercicio 2\n",
        "#identificacion del producto\n",
        "p1 = \"\" #producto 1\n",
        "p2 = \"\" #producto 2\n",
        "p3 = \"\" #producto 3\n",
        "\n",
        "# Unidades del producto\n",
        "uni_p1 = 0 #unidades del producto 1\n",
        "uni_p2 = 0 #unidades del producto 2\n",
        "uni_p3 = 0 #unidades del producto 3\n",
        "\n",
        "#precio de los productos\n",
        "pre_p1 = 0 #precio del producto 1 en pesos\n",
        "pre_p2 = 0 #precio del producto 2 en pesos\n",
        "pre_p3 = 0 #precio del producto 3 en pesos\n",
        "\n",
        "#Porcentaje de descuento %\n",
        "des = int(15)\n",
        "\n",
        "#valor total de la compra\n",
        "pre_total = 0\n",
        "\n",
        "#valor deldescuento\n",
        "val_des = 0\n",
        "\n",
        "#precio final en pesos\n",
        "pre_final = 0\n",
        "\n",
        "##Solicitud de datos\n",
        "p1 = input(\"Ingrese el nombre del producto 1: \")\n",
        "pre_p1 = float(input(f\"Ingrese el precio del producto: {p1} \"))\n",
        "uni_p1 = int(input(f\"Ingrese la cantidad de producto: {p1} \"))\n",
        "\n",
        "p2 = input(\"Ingrese el nombre del producto 2: \")\n",
        "pre_p2 = float(input(f\"Ingrese el precio del producto: {p2}\"))\n",
        "uni_p2 = int(input(f\"Ingrese la cantidad de producto: {p2} \"))\n",
        "\n",
        "p3 = input(\"Ingrese el nombre del producto 3: \")\n",
        "pre_p3 = float(input(f\"Ingrese el precio del producto: {p3}\"))\n",
        "uni_p3 = int(input(f\"Ingrese la cantidad de producto: {p3} \"))\n"
      ],
      "metadata": {
        "colab": {
          "base_uri": "https://localhost:8080/"
        },
        "id": "E4kfeORkB47F",
        "outputId": "55cef9d1-2e5e-4858-87ab-02f01c0b3d32"
      },
      "execution_count": 19,
      "outputs": [
        {
          "name": "stdout",
          "output_type": "stream",
          "text": [
            "Ingrese el nombre del producto 1: cerveza\n",
            "Ingrese el precio del producto: cerveza 3500\n",
            "Ingrese la cantidad de producto: cerveza 3\n",
            "Ingrese el nombre del producto 2: huevos\n",
            "Ingrese el precio del producto: huevos4\n",
            "Ingrese la cantidad de producto: huevos 0\n",
            "Ingrese el nombre del producto 3: chocolate\n",
            "Ingrese el precio del producto: chocolate4000\n",
            "Ingrese la cantidad de producto: chocolate 2\n"
          ]
        }
      ]
    },
    {
      "cell_type": "code",
      "source": [
        "##procesamiento de datos\n",
        "pre_total = (pre_p1*uni_p1) + (pre_p2*uni_p2) + (pre_p3*uni_p3)\n",
        "val_des = (pre_total*des)/100\n",
        "pre_final = pre_total-val_des\n",
        "\n",
        "print(f\"Total a pagar {pre_final}\")\n"
      ],
      "metadata": {
        "colab": {
          "base_uri": "https://localhost:8080/"
        },
        "id": "bX_0Fp4QJx9S",
        "outputId": "4f6e4d6e-c136-472a-c687-4cd0118f2389"
      },
      "execution_count": 21,
      "outputs": [
        {
          "output_type": "stream",
          "name": "stdout",
          "text": [
            "Total a pagar 15725.0\n"
          ]
        }
      ]
    }
  ]
}
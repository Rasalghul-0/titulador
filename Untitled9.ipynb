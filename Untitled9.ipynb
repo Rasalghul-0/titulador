{
  "nbformat": 4,
  "nbformat_minor": 0,
  "metadata": {
    "colab": {
      "provenance": [],
      "authorship_tag": "ABX9TyMjIFUiF/oeb37ciGLzJXE6",
      "include_colab_link": true
    },
    "kernelspec": {
      "name": "python3",
      "display_name": "Python 3"
    },
    "language_info": {
      "name": "python"
    }
  },
  "cells": [
    {
      "cell_type": "markdown",
      "metadata": {
        "id": "view-in-github",
        "colab_type": "text"
      },
      "source": [
        "<a href=\"https://colab.research.google.com/github/Rasalghul-0/titulador/blob/main/Untitled9.ipynb\" target=\"_parent\"><img src=\"https://colab.research.google.com/assets/colab-badge.svg\" alt=\"Open In Colab\"/></a>"
      ]
    },
    {
      "cell_type": "code",
      "execution_count": 6,
      "metadata": {
        "id": "OIZEZ91YkvU6"
      },
      "outputs": [],
      "source": [
        "## Nombre de los items de calificaciones\n",
        "p1 = \"\" ##Primer parcial\n",
        "p2 = \"\" ##Segundo parcial\n",
        "pa = \"\" ##Practica\n",
        "pf = \"\" ##Parcial final\n",
        "\n",
        "\n",
        "\n",
        "## Nota de los items\n",
        "nota_p1 = 0 ##Nota primer parcial\n",
        "nota_p2 = 0 ##Nota segundo parcial\n",
        "nota_pa = 0 ##Nota practica\n",
        "nota_pf = 0 ##Nota parcial final\n",
        "\n",
        "##Porcentaje de cada item de calificacion unidades en (%)\n",
        "porcentaje_p1 = int(20)\n",
        "porcentaje_p2 = int(20)\n",
        "porcentaje_pa = int(35)\n",
        "porcentaje_pf = int(25)\n",
        "\n",
        "##Ponderado de las nota\n",
        "pon_p1 = 0 ## ponderado nota parcial 1\n",
        "pon_p2 = 0 ## ponderado nota parcial 2\n",
        "pon_pa = 0 ## ponderado nota practica\n",
        "pon_pf = 0 ## ponderado nota final\n",
        "\n",
        "##Nota fianl\n",
        "nota_final = 0"
      ]
    },
    {
      "cell_type": "code",
      "source": [
        "## Solicitud de datos\n",
        "p1 = input(\"Ingrese el nombre de la actividad 1: \")\n",
        "nota_p1 = float(input(f\"Ingrese la nota de la actividad: {p1} \"))\n",
        "\n",
        "p2 = input(\"Ingrese el nombre de la actividad 2: \")\n",
        "nota_p2 = float(input(f\"Ingrese la nota de la actividad: {p2}\"))\n",
        "\n",
        "pa = input(\"Ingrese el nombre de la actividad 3: \")\n",
        "nota_pa = float(input(f\"Ingrese la nota de la actividad: {pa}\"))\n",
        "\n",
        "pf = input(\"Ingrese el nombre de la actividad 4: \")\n",
        "nota_pf = float(input(f\"Ingrese la nota de la actividad: {pf}\"))\n",
        "\n",
        "##procesamiento de datos\n",
        "pon_p1 = (nota_p1*porcentaje_p1)/100\n",
        "pon_p2 = (nota_p2*porcentaje_p2)/100\n",
        "pon_pa = (nota_pa*porcentaje_pa)/100\n",
        "pon_pf = (nota_pf*porcentaje_pf)/100\n",
        "\n",
        "nota_final = pon_p1 + pon_p2 + pon_pa + pon_pf\n",
        "\n",
        "if nota_final >= 3.0 :\n",
        "  print(f\"la nota final del curso de Algoritmos {nota_final}, Aprobado\")\n",
        "else:\n",
        "  print(f\"la nota final del curso de Algoritmos {nota_final}, Reprobado\")\n"
      ],
      "metadata": {
        "colab": {
          "base_uri": "https://localhost:8080/"
        },
        "id": "5E-MS1PiwktF",
        "outputId": "e059ccd4-0982-43cb-997d-00bff51ca2b1"
      },
      "execution_count": 14,
      "outputs": [
        {
          "output_type": "stream",
          "name": "stdout",
          "text": [
            "Ingrese el nombre de la actividad 1: Primer parcial \n",
            "Ingrese la nota de la actividad: Primer parcial  3.5\n",
            "Ingrese el nombre de la actividad 2: Segundo parcial \n",
            "Ingrese la nota de la actividad: Segundo parcial 4.5\n",
            "Ingrese el nombre de la actividad 3: Practica \n",
            "Ingrese la nota de la actividad: Practica 3.3\n",
            "Ingrese el nombre de la actividad 4: Parcial final \n",
            "Ingrese la nota de la actividad: Parcial final 4.6\n",
            "la nota final del curso de Algoritmos 3.905, Aprobado\n"
          ]
        }
      ]
    }
  ]
}